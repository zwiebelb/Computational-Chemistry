{
  "nbformat": 4,
  "nbformat_minor": 0,
  "metadata": {
    "colab": {
      "provenance": [],
      "collapsed_sections": [],
      "authorship_tag": "ABX9TyMeT0XRg3yR15M3lJ8L63+w",
      "include_colab_link": true
    },
    "kernelspec": {
      "name": "python3",
      "display_name": "Python 3"
    },
    "language_info": {
      "name": "python"
    }
  },
  "cells": [
    {
      "cell_type": "markdown",
      "metadata": {
        "id": "view-in-github",
        "colab_type": "text"
      },
      "source": [
        "<a href=\"https://colab.research.google.com/github/zwiebelb/Computational-Chemistry/blob/main/Assignment_1.ipynb\" target=\"_parent\"><img src=\"https://colab.research.google.com/assets/colab-badge.svg\" alt=\"Open In Colab\"/></a>"
      ]
    },
    {
      "cell_type": "markdown",
      "source": [
        "This code can calculate the pressure and mean velocity of He, Ne, $N_2$, and $CO_2$ gas. The code uses the equation: $V_{mean} = \\sqrt{\\frac{8RT}{\\pi M}}$ to calculate the mean velocity, and the ideal gas law equation: $ PV = nRT$ to calculate the pressure of the selected gas. "
      ],
      "metadata": {
        "id": "DXlSfr76M4jw"
      }
    },
    {
      "cell_type": "markdown",
      "source": [
        "##Ideal Gas Law Equation\n",
        "\n",
        "$ PV = nRT$\n",
        "\n",
        "The ideal gas equation can be rearranged to solve for pressure: \n",
        "\n",
        "$ P = {\\frac{nRT}{V}} $\n",
        "\n",
        "$\\underline{Where:}$\n",
        "\n",
        "p = pressure (Pa)\n",
        "\n",
        "V = Volume ($m^3$)\n",
        "\n",
        "n = amount of substance (moles)\n",
        "\n",
        "R = Ideal Gas Constant  = 8.31446261815324 (${\\frac{Pa*m^3}{K*mol}}$)\n",
        "\n",
        "T = temperature (K)\n",
        "\n",
        "\n"
      ],
      "metadata": {
        "id": "djWN4K5UHmHE"
      }
    },
    {
      "cell_type": "markdown",
      "source": [
        "#Mean Velocity Equation\n",
        "$V_{mean} = \\sqrt{\\frac{8RT}{\\pi M}}$\n",
        "\n",
        "$\\underline{Where:}$\n",
        "\n",
        "R = Ideal Gas Constant = 8.31446261815324 (${\\frac{Pa*m^3}{K*mol}}$)\n",
        "\n",
        "T = temperature (in Kelvins)\n",
        "\n",
        "M = molar mass (kg/mol)\n"
      ],
      "metadata": {
        "id": "v9nVXUIqL4WH"
      }
    },
    {
      "cell_type": "markdown",
      "source": [
        "## Running this code\n",
        "\n",
        "To use this code, Please enter the gases' identity (He, Ne, N2, CO2), volume in mL, mass in g, and temperature in $^{\\circ}C$ when requested for input in the output box. The pressure in bar and the mean velocity in ${\\frac{m}{s}}$ will be calculated. "
      ],
      "metadata": {
        "id": "4iafO1d-H2k7"
      }
    },
    {
      "cell_type": "code",
      "source": [
        "import math\n",
        "r = 8.31446261815324 #pa*m^3/K*mol\n",
        "\n",
        "def pressure_calculator(volume_in_m3, moles, temperature_in_kelvin):\n",
        "  '''This function calculates the pressure in pa and returns the pressure in bars'''\n",
        "  # pv=nrt -> p = nrt/v\n",
        "  # calculates the pressure in pa using the ideal gas equation with the conditions that the user inputted.\n",
        "  pressure_in_pa = (moles*r*temperature_in_kelvin)/volume_in_m3\n",
        "  # converts pressure in pa to bar\n",
        "  pressure_in_bar = pressure_in_pa/100000\n",
        "  return pressure_in_bar\n",
        "\n",
        "def mean_velocity_calculator(temperature_in_kelvin, mm):\n",
        "  '''This function calculates and returns the mean velocity in m/s'''\n",
        "  # vmean = (8RT/pi*M)^0.5\n",
        "  # calculates the mean velocity of the gas using the mean velocity equation and the conditions that the user inputted.\n",
        "  v_mean = math.sqrt((8*r*temperature_in_kelvin)/(math.pi*mm))\n",
        "  return v_mean\n",
        "\n",
        "def main():\n",
        "\n",
        "  # dictionary of gas type and molar mass associated with it\n",
        "  gases = {'He': 0.0040026, 'Ne': 0.0201797, 'N2': 0.0280134 ,'CO2': 0.044009} # in kg/mol\n",
        "\n",
        "  #request user input for temperature in celsius and converts it to kelvin\n",
        "  temperature_in_c = float(input(\"Please enter a temperature in celsius: \"))\n",
        "  temperature_in_kelvin = temperature_in_c + 273.15\n",
        "  print(\"The temperature in kelvin is: \", temperature_in_kelvin, \"K\\n\")\n",
        "\n",
        "  #request user input in ml, converts it to m^3, and prints the volume in m^3.\n",
        "  volume_in_ml = float(input(\"Please enter the volume in ml: \"))\n",
        "  volume_in_m3 = volume_in_ml/1000000\n",
        "  print(\"The volume in m^3 is: \", volume_in_m3, \"m^3\\n\")\n",
        "\n",
        "  # requests user input and checks if the user inputted a gas in the gas dictionary - if not, requests them to input a gas from the dictionary. \n",
        "  gas_identity = input(\"Please enter the gases identity: \")\n",
        "  while gas_identity not in gases.keys():\n",
        "    # prints what gases are allowed from the dictionary (list converts the gases into a list to print, join removes the brackets and adds commas in between list items.)\n",
        "    print(\"please enter a gas from: \", (', '.join(list(gases.keys()))))\n",
        "    gas_identity = input(\"\\nPlease enter the gases identity: \\n\")\n",
        "\n",
        "  #request mass in grams and converts it to kg and prints it\n",
        "  mass_in_grams = float(input(\"Please enter the mass in grams: \"))\n",
        "  mass_in_kg = mass_in_grams/1000\n",
        "  print(\"The mass in kg is: \", mass_in_kg, \"kg\\n\")\n",
        "\n",
        "  #calculates the number of moles using the molar mass associated with the gas idenity and prints it\n",
        "  moles = mass_in_kg/gases[gas_identity]\n",
        "  print(\"The number of moles is: \", moles, \"moles\\n\")\n",
        "  \n",
        "  #calls the pressure calculator function, and then prints what the calculated pressure in pa is.\n",
        "  pressure_in_bar = pressure_calculator(volume_in_m3,moles,temperature_in_kelvin)\n",
        "  print(\"The pressure of the system is\", round(pressure_in_bar,4), \"bar\")\n",
        "  # if the pressure of the system is greater than 4 bars, it gives a warning. \n",
        "  if pressure_in_bar > 4:\n",
        "    print(\"Warning! the pressure is greater than 4 bar\")\n",
        "\n",
        "  # calls the mean velocity calculator function and prints the calculated mean velocity. \n",
        "  mean_velocity = mean_velocity_calculator(temperature_in_kelvin, gases[gas_identity])\n",
        "  print(\"\\nThe mean velocity is\", round(mean_velocity,4), \"m/s\")\n",
        "\n",
        "if __name__ == \"__main__\":\n",
        "  main()\n"
      ],
      "metadata": {
        "colab": {
          "base_uri": "https://localhost:8080/"
        },
        "id": "ho7lLuKRM4zw",
        "outputId": "ab1b9a97-9f73-49ff-8970-4f3f421c8fa8"
      },
      "execution_count": null,
      "outputs": [
        {
          "output_type": "stream",
          "name": "stdout",
          "text": [
            "Please enter a temperature in celsius: 20\n",
            "The temperature in kelvin is:  293.15 K\n",
            "\n",
            "Please enter the volume in ml: 20\n",
            "The volume in m^3 is:  2e-05 m^3\n",
            "\n",
            "Please enter the gases identity: h\n",
            "please enter a gas from:  He, Ne, N2, CO2\n",
            "\n",
            "Please enter the gases identity: \n",
            "N2\n",
            "Please enter the mass in grams: 20\n",
            "The mass in kg is:  0.02 kg\n",
            "\n",
            "The number of moles is:  0.7139440410660612 moles\n",
            "\n",
            "The pressure of the system is 870.0781 bar\n",
            "Warning! the pressure is greater than 4 bar\n",
            "\n",
            "The mean velocity is 470.7054 m/s\n"
          ]
        }
      ]
    }
  ]
}